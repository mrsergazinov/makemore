{
 "cells": [
  {
   "cell_type": "code",
   "execution_count": 54,
   "metadata": {},
   "outputs": [],
   "source": [
    "# my version of byte-pair encoding\n",
    "\n",
    "from collections import defaultdict\n",
    "\n",
    "def pf(l, return_d=False):\n",
    "    d = defaultdict(int)\n",
    "    for (a, b) in zip(l, l[1:]):\n",
    "        d[(a, b)] += 1\n",
    "    pair = max(d, key=d.get)\n",
    "    if return_d:\n",
    "        return d\n",
    "    return pair if d[pair] > 1 else None\n",
    "\n",
    "def replace(l, pair, new_token):\n",
    "    idx = 1\n",
    "    new_l = []\n",
    "    while idx < len(l):\n",
    "        if (l[idx-1], l[idx]) == pair:\n",
    "            new_l.append(new_token)\n",
    "            idx += 2\n",
    "        else:\n",
    "            new_l.append(l[idx-1])\n",
    "            idx += 1\n",
    "    if idx == len(l):\n",
    "        new_l.append(l[-1])\n",
    "    return new_l\n",
    "\n",
    "def replace_back(code, token, pair):\n",
    "    new_code = []\n",
    "    for tok in code:\n",
    "        if tok == token:\n",
    "            new_code.extend(pair)\n",
    "        else:\n",
    "            new_code.append(tok)\n",
    "    return new_code\n",
    "\n",
    "# byte-pair encoding\n",
    "def bpe(text, max_size=300):\n",
    "    # convert text ot utf-8 encoding\n",
    "    vocab = defaultdict(int)\n",
    "    code = list(text.encode('utf-8'))\n",
    "    curr_size = 255\n",
    "    pair = pf(code)\n",
    "    while pair and curr_size < max_size:\n",
    "        curr_size += 1\n",
    "        vocab[pair] = curr_size\n",
    "        code = replace(code, pair, curr_size)\n",
    "        pair = pf(code)\n",
    "    return code, curr_size, vocab\n",
    "\n",
    "def encode(text, vocab):\n",
    "    l = list(text.encode('utf-8'))\n",
    "    pairs = pf(l, return_d=True)\n",
    "    intersection = set(pairs.keys()).intersection(vocab.keys())\n",
    "    while intersection:\n",
    "        pair = list(intersection)[0]\n",
    "        token = vocab[pair]\n",
    "        l = replace(l, pair, token)\n",
    "        pairs = pf(l, return_d=True)\n",
    "        intersection = set(pairs.keys()).intersection(vocab.keys())\n",
    "    return l\n",
    "\n",
    "def decode(code, vocab):\n",
    "    # inverse vocab\n",
    "    vocab = {v: k for k, v in vocab.items()}\n",
    "    m = max(code)\n",
    "    while m > 255:\n",
    "        code = replace_back(code, m, vocab[m])\n",
    "        m = max(code)\n",
    "    return bytes(code).decode('utf-8', errors='replace')\n"
   ]
  },
  {
   "cell_type": "code",
   "execution_count": 55,
   "metadata": {},
   "outputs": [],
   "source": [
    "# read text\n",
    "with open('text.txt', 'r') as f:\n",
    "    text = f.read()\n",
    "\n",
    "code, vocab_size, vocab = bpe(text)"
   ]
  },
  {
   "cell_type": "code",
   "execution_count": 56,
   "metadata": {},
   "outputs": [
    {
     "name": "stdout",
     "output_type": "stream",
     "text": [
      "Original length = 52\n",
      "Encoded length = 38\n",
      "Compression ratio = 1.368421052631579\n"
     ]
    }
   ],
   "source": [
    "line = 'Renat is a cool guy with a lot of ice in his bucket.'\n",
    "code = encode(line, vocab)\n",
    "print(f'Original length = {len(list(line.encode('utf-8')))}')\n",
    "print(f'Encoded length = {len(code)}')\n",
    "print(f'Compression ratio = {len(list(line.encode(\"utf-8\"))) / len(code)}')\n"
   ]
  },
  {
   "cell_type": "code",
   "execution_count": 57,
   "metadata": {},
   "outputs": [
    {
     "data": {
      "text/plain": [
       "'Renat is a cool guy with a lot of ice in his bucket.'"
      ]
     },
     "execution_count": 57,
     "metadata": {},
     "output_type": "execute_result"
    }
   ],
   "source": [
    "decode(code, vocab)"
   ]
  }
 ],
 "metadata": {
  "kernelspec": {
   "display_name": "makemore",
   "language": "python",
   "name": "python3"
  },
  "language_info": {
   "codemirror_mode": {
    "name": "ipython",
    "version": 3
   },
   "file_extension": ".py",
   "mimetype": "text/x-python",
   "name": "python",
   "nbconvert_exporter": "python",
   "pygments_lexer": "ipython3",
   "version": "3.12.2"
  }
 },
 "nbformat": 4,
 "nbformat_minor": 2
}
