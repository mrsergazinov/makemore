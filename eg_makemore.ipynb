{
 "cells": [
  {
   "cell_type": "code",
   "execution_count": 1,
   "metadata": {},
   "outputs": [],
   "source": [
    "import os\n",
    "import sys\n",
    "import time\n",
    "import math\n",
    "import argparse\n",
    "from dataclasses import dataclass\n",
    "from typing import List\n",
    "\n",
    "import torch\n",
    "import torch.nn as nn\n",
    "from torch.nn import functional as F\n",
    "from torch.utils.data import Dataset\n",
    "from torch.utils.data.dataloader import DataLoader"
   ]
  },
  {
   "cell_type": "markdown",
   "metadata": {},
   "source": [
    "# Bigram"
   ]
  },
  {
   "cell_type": "code",
   "execution_count": 2,
   "metadata": {},
   "outputs": [],
   "source": [
    "class Bigram(nn.Module):\n",
    "    \"\"\"\n",
    "    Bigram Language Model 'neural net', simply a lookup table of logits for the\n",
    "    next character given a previous character.\n",
    "    \"\"\"\n",
    "\n",
    "    def __init__(self, vocab_size):\n",
    "        super().__init__()\n",
    "        n = vocab_size\n",
    "        self.logits = nn.Parameter(torch.zeros((n, n)))\n",
    "\n",
    "    def get_block_size(self):\n",
    "        return 1 # this model only needs one previous character to predict the next\n",
    "\n",
    "    def forward(self, idx, targets=None):\n",
    "\n",
    "         # 'forward pass', lol\n",
    "        logits = self.logits[idx]\n",
    "        # if we are given some desired targets also calculate the loss\n",
    "        loss = None\n",
    "        if targets is not None:\n",
    "            loss = F.cross_entropy(logits.view(-1, logits.size(-1)), targets.view(-1), ignore_index=-1)\n",
    "        # this is the loss from the video, but optimized for stability (logsumexp trick)\n",
    "        loss_simple = None\n",
    "        if targets is not None:\n",
    "            loss_simple = -nn.LogSoftmax(dim=-1)(logits)[torch.arange(len(idx)), targets].mean()\n",
    "\n",
    "        return logits, loss, loss_simple"
   ]
  },
  {
   "cell_type": "code",
   "execution_count": 31,
   "metadata": {},
   "outputs": [],
   "source": [
    "# loading data\n",
    "input_file = 'names.txt'\n",
    "with open(input_file, 'r') as f:\n",
    "        data = f.read()\n",
    "words = data.splitlines()\n",
    "words = [w.strip() for w in words] # get rid of any leading or trailing white space\n",
    "words = [w for w in words if w] # get rid of any empty strings\n",
    "chars = ['.'] + sorted(list(set(''.join(words)))) # all the possible characters + '.' for start token\n",
    "stoi = {ch:i for i,ch in enumerate(chars)}\n",
    "itos = {i:ch for ch,i in stoi.items()}\n",
    "\n",
    "# create list of pairs of characters\n",
    "dataset =  []\n",
    "counting_bigram = torch.zeros(len(chars), len(chars))\n",
    "for word in words:\n",
    "    for (ch1, ch2) in zip('.' + word, word + '.'):\n",
    "        dataset.append((stoi[ch1], stoi[ch2]))\n",
    "        counting_bigram[stoi[ch1], stoi[ch2]] += 1\n",
    "dataset = torch.tensor(dataset, dtype=torch.int64)\n",
    "\n",
    "# normalize the counting_bigram matrix\n",
    "counting_probs = counting_bigram / counting_bigram.sum(dim=1, keepdim=True)\n",
    "        "
   ]
  },
  {
   "cell_type": "code",
   "execution_count": 4,
   "metadata": {},
   "outputs": [
    {
     "name": "stdout",
     "output_type": "stream",
     "text": [
      "epoch 0, loss: 3.295837163925171\n",
      "epoch 10, loss: 2.6367084980010986\n",
      "epoch 20, loss: 2.5555052757263184\n",
      "epoch 30, loss: 2.523956537246704\n",
      "epoch 40, loss: 2.5070486068725586\n",
      "epoch 50, loss: 2.4965200424194336\n",
      "epoch 60, loss: 2.489353656768799\n",
      "epoch 70, loss: 2.48417067527771\n",
      "epoch 80, loss: 2.4802539348602295\n",
      "epoch 90, loss: 2.477193832397461\n",
      "epoch 100, loss: 2.474740743637085\n",
      "epoch 110, loss: 2.47273325920105\n",
      "epoch 120, loss: 2.4710628986358643\n",
      "epoch 130, loss: 2.469653367996216\n",
      "epoch 140, loss: 2.468449115753174\n",
      "epoch 150, loss: 2.46740984916687\n",
      "epoch 160, loss: 2.4665048122406006\n",
      "epoch 170, loss: 2.4657092094421387\n",
      "epoch 180, loss: 2.465005397796631\n",
      "epoch 190, loss: 2.4643783569335938\n"
     ]
    }
   ],
   "source": [
    "model = Bigram(len(chars))\n",
    "model.logits.data.fill_(0)\n",
    "for epoch in range(200):\n",
    "    _, _, loss = model(dataset[:,0], dataset[:,1]) # logsoftmax loss as in the video\n",
    "    loss.backward()\n",
    "    with torch.no_grad():\n",
    "        model.logits -= 40 * model.logits.grad # update -- full GD\n",
    "        model.logits.grad.zero_()\n",
    "    if epoch % 10 == 0:\n",
    "        print(f'epoch {epoch}, loss: {loss.item()}')"
   ]
  },
  {
   "cell_type": "code",
   "execution_count": 5,
   "metadata": {},
   "outputs": [
    {
     "name": "stdout",
     "output_type": "stream",
     "text": [
      "epoch 0, loss: 3.295837163925171\n",
      "epoch 10, loss: 2.6367084980010986\n",
      "epoch 20, loss: 2.5555055141448975\n",
      "epoch 30, loss: 2.523956775665283\n",
      "epoch 40, loss: 2.5070488452911377\n",
      "epoch 50, loss: 2.4965202808380127\n",
      "epoch 60, loss: 2.489353656768799\n",
      "epoch 70, loss: 2.484171152114868\n",
      "epoch 80, loss: 2.4802539348602295\n",
      "epoch 90, loss: 2.47719407081604\n",
      "epoch 100, loss: 2.474740743637085\n",
      "epoch 110, loss: 2.472733736038208\n",
      "epoch 120, loss: 2.4710628986358643\n",
      "epoch 130, loss: 2.4696531295776367\n",
      "epoch 140, loss: 2.468449592590332\n",
      "epoch 150, loss: 2.467410087585449\n",
      "epoch 160, loss: 2.4665048122406006\n",
      "epoch 170, loss: 2.4657092094421387\n",
      "epoch 180, loss: 2.4650051593780518\n",
      "epoch 190, loss: 2.4643783569335938\n"
     ]
    }
   ],
   "source": [
    "model = Bigram(len(chars))\n",
    "model.logits.data.fill_(0)\n",
    "for epoch in range(200):\n",
    "    _, loss, _ = model(dataset[:,0], dataset[:,1]) # cross entropy loss\n",
    "    loss.backward()\n",
    "    with torch.no_grad():\n",
    "        model.logits -= 40 * model.logits.grad\n",
    "        model.logits.grad.zero_()\n",
    "    if epoch % 10 == 0:\n",
    "        print(f'epoch {epoch}, loss: {loss.item()}')"
   ]
  },
  {
   "cell_type": "code",
   "execution_count": 26,
   "metadata": {},
   "outputs": [
    {
     "data": {
      "image/png": "[encoded data removed]",
      "text/plain": [
       "<Figure size 1000x500 with 4 Axes>"
      ]
     },
     "metadata": {},
     "output_type": "display_data"
    }
   ],
   "source": [
    "# visualize the learned probabilities\n",
    "import matplotlib.pyplot as plt\n",
    "import numpy as np\n",
    "grad_probs = F.softmax(model.logits.data, dim=-1)\n",
    "\n",
    "fig, ax = plt.subplots(1, 2, figsize=(10,5))\n",
    "plt.colorbar(ax[0].imshow(counting_probs.numpy()), ax=ax[0])\n",
    "plt.colorbar(ax[1].imshow(grad_probs.numpy()), ax=ax[1])\n",
    "plt.show()"
   ]
  },
  {
   "cell_type": "code",
   "execution_count": 39,
   "metadata": {},
   "outputs": [
    {
     "name": "stdout",
     "output_type": "stream",
     "text": [
      "Greatest conditional probability: u | q\n"
     ]
    }
   ],
   "source": [
    "idx0, idx1 = np.where(grad_probs.numpy() > 0.6)\n",
    "print(f'Greatest conditional probability: {itos[idx1.item()]} | {itos[idx0.item()]}')"
   ]
  },
  {
   "cell_type": "code",
   "execution_count": 45,
   "metadata": {},
   "outputs": [
    {
     "name": "stdout",
     "output_type": "stream",
     "text": [
      "bberian\n",
      "kovam\n",
      "zudilishatie\n",
      "cerikay\n",
      "zper\n",
      "jenn\n",
      "khqjurnamaiy\n",
      "bah\n",
      "ril\n",
      "enncqckmamaniyaruslen\n"
     ]
    }
   ],
   "source": [
    "# sample from the model\n",
    "num_samples = 10\n",
    "\n",
    "for s in range(num_samples):\n",
    "    word, token = '', None\n",
    "    while token != '.':\n",
    "        idx = stoi[token] if token is not None else 0\n",
    "        idx = np.random.choice(len(chars), p=grad_probs[idx].numpy(), size=1).item()\n",
    "        token = itos[idx]\n",
    "        word += token if token != '.' else ''\n",
    "    print(word)"
   ]
  }
 ],
 "metadata": {
  "kernelspec": {
   "display_name": "makemore",
   "language": "python",
   "name": "python3"
  },
  "language_info": {
   "codemirror_mode": {
    "name": "ipython",
    "version": 3
   },
   "file_extension": ".py",
   "mimetype": "text/x-python",
   "name": "python",
   "nbconvert_exporter": "python",
   "pygments_lexer": "ipython3",
   "version": "3.12.2"
  }
 },
 "nbformat": 4,
 "nbformat_minor": 2
}
